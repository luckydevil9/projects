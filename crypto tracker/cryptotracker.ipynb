{
 "cells": [
  {
   "cell_type": "code",
   "execution_count": null,
   "id": "94caffbe-d8aa-497c-82c0-4b53b1c51fc2",
   "metadata": {},
   "outputs": [],
   "source": [
    "# dependencies \n",
    "import pandas as pd\n",
    "import numpy as np\n",
    "import yfinance as yf\n",
    "from datetime import datetime, timedelta"
   ]
  },
  {
   "cell_type": "code",
   "execution_count": null,
   "id": "50d39cb4-dcde-439f-a149-e5eaeb2d0a98",
   "metadata": {},
   "outputs": [],
   "source": [
    "yesterday = datetime.now() - timedelta(days=2)\n",
    "yesterday_str = yesterday.strftime('%Y-%m-%d')\n",
    "target_date = yesterday_str"
   ]
  },
  {
   "cell_type": "code",
   "execution_count": null,
   "id": "0478468c-d835-4883-afb2-291cd03c82cc",
   "metadata": {},
   "outputs": [],
   "source": [
    "# exchange rate\n",
    "Exchange_Rate = yf.Ticker(\"USDAUD=X\")\n",
    "\n",
    "# crypto tickers\n",
    "BTC_Ticker = yf.Ticker(\"BTC-USD\")"
   ]
  },
  {
   "cell_type": "code",
   "execution_count": null,
   "id": "6a84c2fa-03d6-4e9a-be71-74698cabb83d",
   "metadata": {},
   "outputs": [],
   "source": [
    "# pulling data from the last year\n",
    "Rate_Data = Exchange_Rate.history(period='1y')\n",
    "BTC_Data = BTC_Ticker.history(period='1y')"
   ]
  },
  {
   "cell_type": "code",
   "execution_count": null,
   "id": "13c37943-9456-4f80-868e-d5a6a6fe6a36",
   "metadata": {},
   "outputs": [],
   "source": [
    "# getting yeserdays close rate\n",
    "yesterday_exchange = Rate_Data['Close'].loc[target_date]\n",
    "yesterday_BTC = BTC_Data[\"Close\"].loc[target_date]"
   ]
  },
  {
   "cell_type": "code",
   "execution_count": null,
   "id": "18c8c6d0-aa76-4e39-952d-2db3bdbe67c0",
   "metadata": {},
   "outputs": [],
   "source": [
    "print('Exchange Rate USD-AUD:', yesterday_exchange)\n",
    "print('BTC-USD', yesterday_BTC)"
   ]
  },
  {
   "cell_type": "code",
   "execution_count": null,
   "id": "b2bde304-b471-43e7-ae2b-0b3d268ca325",
   "metadata": {},
   "outputs": [],
   "source": [
    "# enter amounts \n",
    "BTC = 0.23\n",
    "\n",
    "add_usd = [BTC*yesterday_BTC]\n",
    "total_usd = sum(add_usd)\n",
    "total_aud = total_usd*yesterday_exchange"
   ]
  },
  {
   "cell_type": "code",
   "execution_count": null,
   "id": "7478604f-e244-4717-b456-7e1e65a54b3c",
   "metadata": {},
   "outputs": [],
   "source": [
    "print('BTC:', BTC*yesterday_BTC)\n",
    "print('Total USD:', total_usd)\n",
    "print('Total AUD:', total_aud)"
   ]
  }
 ],
 "metadata": {
  "kernelspec": {
   "display_name": "Python 3 (ipykernel)",
   "language": "python",
   "name": "python3"
  },
  "language_info": {
   "codemirror_mode": {
    "name": "ipython",
    "version": 3
   },
   "file_extension": ".py",
   "mimetype": "text/x-python",
   "name": "python",
   "nbconvert_exporter": "python",
   "pygments_lexer": "ipython3",
   "version": "3.12.10"
  }
 },
 "nbformat": 4,
 "nbformat_minor": 5
}
